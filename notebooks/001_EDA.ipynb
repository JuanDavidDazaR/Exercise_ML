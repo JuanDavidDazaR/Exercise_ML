{
 "cells": [
  {
   "cell_type": "markdown",
   "id": "9911963f",
   "metadata": {},
   "source": [
    "# EDA\n",
    "\n"
   ]
  },
  {
   "cell_type": "markdown",
   "id": "d28934a6",
   "metadata": {},
   "source": [
    "Se importa las librerias necearias para realizar el respectivo EDA"
   ]
  },
  {
   "cell_type": "code",
   "execution_count": null,
   "id": "ab88356f",
   "metadata": {},
   "outputs": [],
   "source": [
    "import math\n",
    "import pandas as pd\n",
    "import numpy as np\n",
    "import matplotlib.pyplot as plt\n",
    "import seaborn as sns\n",
    "from sklearn.decomposition import PCA\n",
    "from sklearn.preprocessing import StandardScaler\n",
    "from sklearn.feature_selection import chi2\n",
    "from sklearn.model_selection import train_test_split"
   ]
  },
  {
   "cell_type": "markdown",
   "id": "475ff2bc",
   "metadata": {},
   "source": [
    "Se leen el archivo de los datos con pandas"
   ]
  },
  {
   "cell_type": "code",
   "execution_count": 2,
   "id": "18ff062c",
   "metadata": {},
   "outputs": [],
   "source": [
    "data = pd.read_json(\"../data/0_raw/MLA_100k.jsonlines\", lines=True)"
   ]
  },
  {
   "cell_type": "markdown",
   "id": "4fc51a28",
   "metadata": {},
   "source": [
    "### Generalidades del dataframe"
   ]
  },
  {
   "cell_type": "code",
   "execution_count": 3,
   "id": "4e8cfb97",
   "metadata": {},
   "outputs": [
    {
     "data": {
      "text/html": [
       "<div>\n",
       "<style scoped>\n",
       "    .dataframe tbody tr th:only-of-type {\n",
       "        vertical-align: middle;\n",
       "    }\n",
       "\n",
       "    .dataframe tbody tr th {\n",
       "        vertical-align: top;\n",
       "    }\n",
       "\n",
       "    .dataframe thead th {\n",
       "        text-align: right;\n",
       "    }\n",
       "</style>\n",
       "<table border=\"1\" class=\"dataframe\">\n",
       "  <thead>\n",
       "    <tr style=\"text-align: right;\">\n",
       "      <th></th>\n",
       "      <th>seller_address</th>\n",
       "      <th>warranty</th>\n",
       "      <th>sub_status</th>\n",
       "      <th>condition</th>\n",
       "      <th>seller_contact</th>\n",
       "      <th>deal_ids</th>\n",
       "      <th>base_price</th>\n",
       "      <th>shipping</th>\n",
       "      <th>non_mercado_pago_payment_methods</th>\n",
       "      <th>seller_id</th>\n",
       "      <th>...</th>\n",
       "      <th>status</th>\n",
       "      <th>video_id</th>\n",
       "      <th>catalog_product_id</th>\n",
       "      <th>subtitle</th>\n",
       "      <th>initial_quantity</th>\n",
       "      <th>start_time</th>\n",
       "      <th>permalink</th>\n",
       "      <th>geolocation</th>\n",
       "      <th>sold_quantity</th>\n",
       "      <th>available_quantity</th>\n",
       "    </tr>\n",
       "  </thead>\n",
       "  <tbody>\n",
       "    <tr>\n",
       "      <th>0</th>\n",
       "      <td>{'comment': '', 'longitude': -58.3986709, 'id'...</td>\n",
       "      <td>None</td>\n",
       "      <td>[]</td>\n",
       "      <td>new</td>\n",
       "      <td>None</td>\n",
       "      <td>[]</td>\n",
       "      <td>80.0</td>\n",
       "      <td>{'local_pick_up': True, 'methods': [], 'tags':...</td>\n",
       "      <td>[{'description': 'Transferencia bancaria', 'id...</td>\n",
       "      <td>74952096</td>\n",
       "      <td>...</td>\n",
       "      <td>active</td>\n",
       "      <td>None</td>\n",
       "      <td>NaN</td>\n",
       "      <td>NaN</td>\n",
       "      <td>1</td>\n",
       "      <td>2015-09-05 20:42:53+00:00</td>\n",
       "      <td>http://articulo.mercadolibre.com.ar/MLA-578052...</td>\n",
       "      <td>{'latitude': -34.6280698, 'longitude': -58.398...</td>\n",
       "      <td>0</td>\n",
       "      <td>1</td>\n",
       "    </tr>\n",
       "    <tr>\n",
       "      <th>1</th>\n",
       "      <td>{'comment': '', 'longitude': -58.5059173, 'id'...</td>\n",
       "      <td>NUESTRA REPUTACION</td>\n",
       "      <td>[]</td>\n",
       "      <td>used</td>\n",
       "      <td>None</td>\n",
       "      <td>[]</td>\n",
       "      <td>2650.0</td>\n",
       "      <td>{'local_pick_up': True, 'methods': [], 'tags':...</td>\n",
       "      <td>[{'description': 'Transferencia bancaria', 'id...</td>\n",
       "      <td>42093335</td>\n",
       "      <td>...</td>\n",
       "      <td>active</td>\n",
       "      <td>None</td>\n",
       "      <td>NaN</td>\n",
       "      <td>NaN</td>\n",
       "      <td>1</td>\n",
       "      <td>2015-09-26 18:08:30+00:00</td>\n",
       "      <td>http://articulo.mercadolibre.com.ar/MLA-581565...</td>\n",
       "      <td>{'latitude': -34.5935524, 'longitude': -58.505...</td>\n",
       "      <td>0</td>\n",
       "      <td>1</td>\n",
       "    </tr>\n",
       "    <tr>\n",
       "      <th>2</th>\n",
       "      <td>{'comment': '', 'longitude': -58.4143948, 'id'...</td>\n",
       "      <td>None</td>\n",
       "      <td>[]</td>\n",
       "      <td>used</td>\n",
       "      <td>None</td>\n",
       "      <td>[]</td>\n",
       "      <td>60.0</td>\n",
       "      <td>{'local_pick_up': True, 'methods': [], 'tags':...</td>\n",
       "      <td>[{'description': 'Transferencia bancaria', 'id...</td>\n",
       "      <td>133384258</td>\n",
       "      <td>...</td>\n",
       "      <td>active</td>\n",
       "      <td>None</td>\n",
       "      <td>NaN</td>\n",
       "      <td>NaN</td>\n",
       "      <td>1</td>\n",
       "      <td>2015-09-09 23:57:07+00:00</td>\n",
       "      <td>http://articulo.mercadolibre.com.ar/MLA-578780...</td>\n",
       "      <td>{'latitude': -34.6233907, 'longitude': -58.414...</td>\n",
       "      <td>0</td>\n",
       "      <td>1</td>\n",
       "    </tr>\n",
       "    <tr>\n",
       "      <th>3</th>\n",
       "      <td>{'comment': '', 'longitude': -58.4929208, 'id'...</td>\n",
       "      <td>None</td>\n",
       "      <td>[]</td>\n",
       "      <td>new</td>\n",
       "      <td>None</td>\n",
       "      <td>[]</td>\n",
       "      <td>580.0</td>\n",
       "      <td>{'local_pick_up': True, 'methods': [], 'tags':...</td>\n",
       "      <td>[{'description': 'Transferencia bancaria', 'id...</td>\n",
       "      <td>143001605</td>\n",
       "      <td>...</td>\n",
       "      <td>active</td>\n",
       "      <td>None</td>\n",
       "      <td>NaN</td>\n",
       "      <td>NaN</td>\n",
       "      <td>1</td>\n",
       "      <td>2015-09-28 18:47:56+00:00</td>\n",
       "      <td>http://articulo.mercadolibre.com.ar/MLA-581877...</td>\n",
       "      <td>{'latitude': -34.6281894, 'longitude': -58.492...</td>\n",
       "      <td>0</td>\n",
       "      <td>1</td>\n",
       "    </tr>\n",
       "    <tr>\n",
       "      <th>4</th>\n",
       "      <td>{'comment': '', 'longitude': -58.5495042, 'id'...</td>\n",
       "      <td>MI REPUTACION.</td>\n",
       "      <td>[]</td>\n",
       "      <td>used</td>\n",
       "      <td>None</td>\n",
       "      <td>[]</td>\n",
       "      <td>30.0</td>\n",
       "      <td>{'local_pick_up': True, 'methods': [], 'tags':...</td>\n",
       "      <td>[{'description': 'Transferencia bancaria', 'id...</td>\n",
       "      <td>96873449</td>\n",
       "      <td>...</td>\n",
       "      <td>active</td>\n",
       "      <td>None</td>\n",
       "      <td>NaN</td>\n",
       "      <td>NaN</td>\n",
       "      <td>1</td>\n",
       "      <td>2015-08-24 22:07:20+00:00</td>\n",
       "      <td>http://articulo.mercadolibre.com.ar/MLA-576112...</td>\n",
       "      <td>{'latitude': -34.6346547, 'longitude': -58.549...</td>\n",
       "      <td>0</td>\n",
       "      <td>1</td>\n",
       "    </tr>\n",
       "  </tbody>\n",
       "</table>\n",
       "<p>5 rows × 48 columns</p>\n",
       "</div>"
      ],
      "text/plain": [
       "                                      seller_address            warranty  \\\n",
       "0  {'comment': '', 'longitude': -58.3986709, 'id'...                None   \n",
       "1  {'comment': '', 'longitude': -58.5059173, 'id'...  NUESTRA REPUTACION   \n",
       "2  {'comment': '', 'longitude': -58.4143948, 'id'...                None   \n",
       "3  {'comment': '', 'longitude': -58.4929208, 'id'...                None   \n",
       "4  {'comment': '', 'longitude': -58.5495042, 'id'...      MI REPUTACION.   \n",
       "\n",
       "  sub_status condition seller_contact deal_ids  base_price  \\\n",
       "0         []       new           None       []        80.0   \n",
       "1         []      used           None       []      2650.0   \n",
       "2         []      used           None       []        60.0   \n",
       "3         []       new           None       []       580.0   \n",
       "4         []      used           None       []        30.0   \n",
       "\n",
       "                                            shipping  \\\n",
       "0  {'local_pick_up': True, 'methods': [], 'tags':...   \n",
       "1  {'local_pick_up': True, 'methods': [], 'tags':...   \n",
       "2  {'local_pick_up': True, 'methods': [], 'tags':...   \n",
       "3  {'local_pick_up': True, 'methods': [], 'tags':...   \n",
       "4  {'local_pick_up': True, 'methods': [], 'tags':...   \n",
       "\n",
       "                    non_mercado_pago_payment_methods  seller_id  ...  status  \\\n",
       "0  [{'description': 'Transferencia bancaria', 'id...   74952096  ...  active   \n",
       "1  [{'description': 'Transferencia bancaria', 'id...   42093335  ...  active   \n",
       "2  [{'description': 'Transferencia bancaria', 'id...  133384258  ...  active   \n",
       "3  [{'description': 'Transferencia bancaria', 'id...  143001605  ...  active   \n",
       "4  [{'description': 'Transferencia bancaria', 'id...   96873449  ...  active   \n",
       "\n",
       "  video_id catalog_product_id subtitle  initial_quantity  \\\n",
       "0     None                NaN      NaN                 1   \n",
       "1     None                NaN      NaN                 1   \n",
       "2     None                NaN      NaN                 1   \n",
       "3     None                NaN      NaN                 1   \n",
       "4     None                NaN      NaN                 1   \n",
       "\n",
       "                 start_time  \\\n",
       "0 2015-09-05 20:42:53+00:00   \n",
       "1 2015-09-26 18:08:30+00:00   \n",
       "2 2015-09-09 23:57:07+00:00   \n",
       "3 2015-09-28 18:47:56+00:00   \n",
       "4 2015-08-24 22:07:20+00:00   \n",
       "\n",
       "                                           permalink  \\\n",
       "0  http://articulo.mercadolibre.com.ar/MLA-578052...   \n",
       "1  http://articulo.mercadolibre.com.ar/MLA-581565...   \n",
       "2  http://articulo.mercadolibre.com.ar/MLA-578780...   \n",
       "3  http://articulo.mercadolibre.com.ar/MLA-581877...   \n",
       "4  http://articulo.mercadolibre.com.ar/MLA-576112...   \n",
       "\n",
       "                                         geolocation sold_quantity  \\\n",
       "0  {'latitude': -34.6280698, 'longitude': -58.398...             0   \n",
       "1  {'latitude': -34.5935524, 'longitude': -58.505...             0   \n",
       "2  {'latitude': -34.6233907, 'longitude': -58.414...             0   \n",
       "3  {'latitude': -34.6281894, 'longitude': -58.492...             0   \n",
       "4  {'latitude': -34.6346547, 'longitude': -58.549...             0   \n",
       "\n",
       "  available_quantity  \n",
       "0                  1  \n",
       "1                  1  \n",
       "2                  1  \n",
       "3                  1  \n",
       "4                  1  \n",
       "\n",
       "[5 rows x 48 columns]"
      ]
     },
     "execution_count": 3,
     "metadata": {},
     "output_type": "execute_result"
    }
   ],
   "source": [
    "data.head()"
   ]
  },
  {
   "cell_type": "code",
   "execution_count": 4,
   "id": "e850f413",
   "metadata": {},
   "outputs": [
    {
     "data": {
      "text/plain": [
       "(100000, 48)"
      ]
     },
     "execution_count": 4,
     "metadata": {},
     "output_type": "execute_result"
    }
   ],
   "source": [
    "data.shape"
   ]
  },
  {
   "cell_type": "code",
   "execution_count": 5,
   "id": "6be8fbce",
   "metadata": {},
   "outputs": [
    {
     "name": "stdout",
     "output_type": "stream",
     "text": [
      "<class 'pandas.core.frame.DataFrame'>\n",
      "RangeIndex: 100000 entries, 0 to 99999\n",
      "Data columns (total 48 columns):\n",
      " #   Column                            Non-Null Count   Dtype              \n",
      "---  ------                            --------------   -----              \n",
      " 0   seller_address                    100000 non-null  object             \n",
      " 1   warranty                          39104 non-null   object             \n",
      " 2   sub_status                        100000 non-null  object             \n",
      " 3   condition                         100000 non-null  object             \n",
      " 4   seller_contact                    2219 non-null    object             \n",
      " 5   deal_ids                          100000 non-null  object             \n",
      " 6   base_price                        100000 non-null  float64            \n",
      " 7   shipping                          100000 non-null  object             \n",
      " 8   non_mercado_pago_payment_methods  100000 non-null  object             \n",
      " 9   seller_id                         100000 non-null  int64              \n",
      " 10  variations                        100000 non-null  object             \n",
      " 11  location                          100000 non-null  object             \n",
      " 12  site_id                           100000 non-null  object             \n",
      " 13  listing_type_id                   100000 non-null  object             \n",
      " 14  price                             100000 non-null  float64            \n",
      " 15  attributes                        100000 non-null  object             \n",
      " 16  buying_mode                       100000 non-null  object             \n",
      " 17  tags                              100000 non-null  object             \n",
      " 18  listing_source                    100000 non-null  object             \n",
      " 19  parent_item_id                    76989 non-null   object             \n",
      " 20  coverage_areas                    100000 non-null  object             \n",
      " 21  category_id                       100000 non-null  object             \n",
      " 22  descriptions                      100000 non-null  object             \n",
      " 23  last_updated                      100000 non-null  object             \n",
      " 24  international_delivery_mode       100000 non-null  object             \n",
      " 25  pictures                          100000 non-null  object             \n",
      " 26  id                                100000 non-null  object             \n",
      " 27  official_store_id                 818 non-null     float64            \n",
      " 28  differential_pricing              0 non-null       float64            \n",
      " 29  accepts_mercadopago               100000 non-null  bool               \n",
      " 30  original_price                    143 non-null     float64            \n",
      " 31  currency_id                       100000 non-null  object             \n",
      " 32  thumbnail                         100000 non-null  object             \n",
      " 33  title                             100000 non-null  object             \n",
      " 34  automatic_relist                  100000 non-null  bool               \n",
      " 35  date_created                      100000 non-null  object             \n",
      " 36  secure_thumbnail                  100000 non-null  object             \n",
      " 37  stop_time                         100000 non-null  datetime64[ns, UTC]\n",
      " 38  status                            100000 non-null  object             \n",
      " 39  video_id                          2985 non-null    object             \n",
      " 40  catalog_product_id                11 non-null      float64            \n",
      " 41  subtitle                          0 non-null       float64            \n",
      " 42  initial_quantity                  100000 non-null  int64              \n",
      " 43  start_time                        100000 non-null  datetime64[ns, UTC]\n",
      " 44  permalink                         100000 non-null  object             \n",
      " 45  geolocation                       100000 non-null  object             \n",
      " 46  sold_quantity                     100000 non-null  int64              \n",
      " 47  available_quantity                100000 non-null  int64              \n",
      "dtypes: bool(2), datetime64[ns, UTC](2), float64(7), int64(4), object(33)\n",
      "memory usage: 35.3+ MB\n"
     ]
    }
   ],
   "source": [
    "data.info()"
   ]
  },
  {
   "cell_type": "code",
   "execution_count": 6,
   "id": "f8cfdb4e",
   "metadata": {},
   "outputs": [
    {
     "data": {
      "text/plain": [
       "Index(['seller_address', 'warranty', 'sub_status', 'condition',\n",
       "       'seller_contact', 'deal_ids', 'base_price', 'shipping',\n",
       "       'non_mercado_pago_payment_methods', 'seller_id', 'variations',\n",
       "       'location', 'site_id', 'listing_type_id', 'price', 'attributes',\n",
       "       'buying_mode', 'tags', 'listing_source', 'parent_item_id',\n",
       "       'coverage_areas', 'category_id', 'descriptions', 'last_updated',\n",
       "       'international_delivery_mode', 'pictures', 'id', 'official_store_id',\n",
       "       'differential_pricing', 'accepts_mercadopago', 'original_price',\n",
       "       'currency_id', 'thumbnail', 'title', 'automatic_relist', 'date_created',\n",
       "       'secure_thumbnail', 'stop_time', 'status', 'video_id',\n",
       "       'catalog_product_id', 'subtitle', 'initial_quantity', 'start_time',\n",
       "       'permalink', 'geolocation', 'sold_quantity', 'available_quantity'],\n",
       "      dtype='object')"
      ]
     },
     "execution_count": 6,
     "metadata": {},
     "output_type": "execute_result"
    }
   ],
   "source": [
    "data.columns"
   ]
  },
  {
   "cell_type": "code",
   "execution_count": 7,
   "id": "e7ccf13e",
   "metadata": {},
   "outputs": [
    {
     "data": {
      "text/plain": [
       "seller_address                                   object\n",
       "warranty                                         object\n",
       "sub_status                                       object\n",
       "condition                                        object\n",
       "seller_contact                                   object\n",
       "deal_ids                                         object\n",
       "base_price                                      float64\n",
       "shipping                                         object\n",
       "non_mercado_pago_payment_methods                 object\n",
       "seller_id                                         int64\n",
       "variations                                       object\n",
       "location                                         object\n",
       "site_id                                          object\n",
       "listing_type_id                                  object\n",
       "price                                           float64\n",
       "attributes                                       object\n",
       "buying_mode                                      object\n",
       "tags                                             object\n",
       "listing_source                                   object\n",
       "parent_item_id                                   object\n",
       "coverage_areas                                   object\n",
       "category_id                                      object\n",
       "descriptions                                     object\n",
       "last_updated                                     object\n",
       "international_delivery_mode                      object\n",
       "pictures                                         object\n",
       "id                                               object\n",
       "official_store_id                               float64\n",
       "differential_pricing                            float64\n",
       "accepts_mercadopago                                bool\n",
       "original_price                                  float64\n",
       "currency_id                                      object\n",
       "thumbnail                                        object\n",
       "title                                            object\n",
       "automatic_relist                                   bool\n",
       "date_created                                     object\n",
       "secure_thumbnail                                 object\n",
       "stop_time                           datetime64[ns, UTC]\n",
       "status                                           object\n",
       "video_id                                         object\n",
       "catalog_product_id                              float64\n",
       "subtitle                                        float64\n",
       "initial_quantity                                  int64\n",
       "start_time                          datetime64[ns, UTC]\n",
       "permalink                                        object\n",
       "geolocation                                      object\n",
       "sold_quantity                                     int64\n",
       "available_quantity                                int64\n",
       "dtype: object"
      ]
     },
     "execution_count": 7,
     "metadata": {},
     "output_type": "execute_result"
    }
   ],
   "source": [
    "data.dtypes"
   ]
  },
  {
   "cell_type": "markdown",
   "id": "78ff6e95",
   "metadata": {},
   "source": [
    "### Limpieza de los datos "
   ]
  },
  {
   "cell_type": "markdown",
   "id": "d1d155fd",
   "metadata": {},
   "source": [
    "#### Datos nulos"
   ]
  },
  {
   "cell_type": "code",
   "execution_count": 8,
   "id": "e0462e53",
   "metadata": {},
   "outputs": [
    {
     "data": {
      "text/plain": [
       "seller_address                           0\n",
       "warranty                             60896\n",
       "sub_status                               0\n",
       "condition                                0\n",
       "seller_contact                       97781\n",
       "deal_ids                                 0\n",
       "base_price                               0\n",
       "shipping                                 0\n",
       "non_mercado_pago_payment_methods         0\n",
       "seller_id                                0\n",
       "variations                               0\n",
       "location                                 0\n",
       "site_id                                  0\n",
       "listing_type_id                          0\n",
       "price                                    0\n",
       "attributes                               0\n",
       "buying_mode                              0\n",
       "tags                                     0\n",
       "listing_source                           0\n",
       "parent_item_id                       23011\n",
       "coverage_areas                           0\n",
       "category_id                              0\n",
       "descriptions                             0\n",
       "last_updated                             0\n",
       "international_delivery_mode              0\n",
       "pictures                                 0\n",
       "id                                       0\n",
       "official_store_id                    99182\n",
       "differential_pricing                100000\n",
       "accepts_mercadopago                      0\n",
       "original_price                       99857\n",
       "currency_id                              0\n",
       "thumbnail                                0\n",
       "title                                    0\n",
       "automatic_relist                         0\n",
       "date_created                             0\n",
       "secure_thumbnail                         0\n",
       "stop_time                                0\n",
       "status                                   0\n",
       "video_id                             97015\n",
       "catalog_product_id                   99989\n",
       "subtitle                            100000\n",
       "initial_quantity                         0\n",
       "start_time                               0\n",
       "permalink                                0\n",
       "geolocation                              0\n",
       "sold_quantity                            0\n",
       "available_quantity                       0\n",
       "dtype: int64"
      ]
     },
     "execution_count": 8,
     "metadata": {},
     "output_type": "execute_result"
    }
   ],
   "source": [
    "data.isnull().sum()"
   ]
  },
  {
   "cell_type": "markdown",
   "id": "5d07f498",
   "metadata": {},
   "source": [
    "Tnemos muchos atos nulos en algunas columnas, para poder tomar una decision, vamos a ver por porcetajes de las columans con datos nulos."
   ]
  },
  {
   "cell_type": "code",
   "execution_count": 9,
   "id": "0356e71d",
   "metadata": {},
   "outputs": [
    {
     "name": "stdout",
     "output_type": "stream",
     "text": [
      "Porcentaje de nulos por columna\n",
      "seller_address: 0.0%\n",
      "warranty: 60.9%\n",
      "sub_status: 0.0%\n",
      "condition: 0.0%\n",
      "seller_contact: 97.78%\n",
      "deal_ids: 0.0%\n",
      "base_price: 0.0%\n",
      "shipping: 0.0%\n",
      "non_mercado_pago_payment_methods: 0.0%\n",
      "seller_id: 0.0%\n",
      "variations: 0.0%\n",
      "location: 0.0%\n",
      "site_id: 0.0%\n",
      "listing_type_id: 0.0%\n",
      "price: 0.0%\n",
      "attributes: 0.0%\n",
      "buying_mode: 0.0%\n",
      "tags: 0.0%\n",
      "listing_source: 0.0%\n",
      "parent_item_id: 23.01%\n",
      "coverage_areas: 0.0%\n",
      "category_id: 0.0%\n",
      "descriptions: 0.0%\n",
      "last_updated: 0.0%\n",
      "international_delivery_mode: 0.0%\n",
      "pictures: 0.0%\n",
      "id: 0.0%\n",
      "official_store_id: 99.18%\n",
      "differential_pricing: 100.0%\n",
      "accepts_mercadopago: 0.0%\n",
      "original_price: 99.86%\n",
      "currency_id: 0.0%\n",
      "thumbnail: 0.0%\n",
      "title: 0.0%\n",
      "automatic_relist: 0.0%\n",
      "date_created: 0.0%\n",
      "secure_thumbnail: 0.0%\n",
      "stop_time: 0.0%\n",
      "status: 0.0%\n",
      "video_id: 97.02%\n",
      "catalog_product_id: 99.99%\n",
      "subtitle: 100.0%\n",
      "initial_quantity: 0.0%\n",
      "start_time: 0.0%\n",
      "permalink: 0.0%\n",
      "geolocation: 0.0%\n",
      "sold_quantity: 0.0%\n",
      "available_quantity: 0.0%\n"
     ]
    },
    {
     "data": {
      "text/plain": [
       "seller_address                        0.00\n",
       "warranty                             60.90\n",
       "sub_status                            0.00\n",
       "condition                             0.00\n",
       "seller_contact                       97.78\n",
       "deal_ids                              0.00\n",
       "base_price                            0.00\n",
       "shipping                              0.00\n",
       "non_mercado_pago_payment_methods      0.00\n",
       "seller_id                             0.00\n",
       "variations                            0.00\n",
       "location                              0.00\n",
       "site_id                               0.00\n",
       "listing_type_id                       0.00\n",
       "price                                 0.00\n",
       "attributes                            0.00\n",
       "buying_mode                           0.00\n",
       "tags                                  0.00\n",
       "listing_source                        0.00\n",
       "parent_item_id                       23.01\n",
       "coverage_areas                        0.00\n",
       "category_id                           0.00\n",
       "descriptions                          0.00\n",
       "last_updated                          0.00\n",
       "international_delivery_mode           0.00\n",
       "pictures                              0.00\n",
       "id                                    0.00\n",
       "official_store_id                    99.18\n",
       "differential_pricing                100.00\n",
       "accepts_mercadopago                   0.00\n",
       "original_price                       99.86\n",
       "currency_id                           0.00\n",
       "thumbnail                             0.00\n",
       "title                                 0.00\n",
       "automatic_relist                      0.00\n",
       "date_created                          0.00\n",
       "secure_thumbnail                      0.00\n",
       "stop_time                             0.00\n",
       "status                                0.00\n",
       "video_id                             97.02\n",
       "catalog_product_id                   99.99\n",
       "subtitle                            100.00\n",
       "initial_quantity                      0.00\n",
       "start_time                            0.00\n",
       "permalink                             0.00\n",
       "geolocation                           0.00\n",
       "sold_quantity                         0.00\n",
       "available_quantity                    0.00\n",
       "dtype: float64"
      ]
     },
     "execution_count": 9,
     "metadata": {},
     "output_type": "execute_result"
    }
   ],
   "source": [
    "def porcentaje_nulos(data):\n",
    "    nulos_columnas = data.isnull().mean() * 100 \n",
    "    nulos_columnas = nulos_columnas.round(2)\n",
    "\n",
    "    print(\"Porcentaje de nulos por columna\")\n",
    "    for columna, porcentaje in nulos_columnas.items():\n",
    "        print(f\"{columna}: {porcentaje}%\")\n",
    "    return nulos_columnas\n",
    "porcentaje_nulos(data)\n"
   ]
  },
  {
   "cell_type": "markdown",
   "id": "7b788821",
   "metadata": {},
   "source": [
    "Se elimina las columnas que tinenen un porcetaje mayor al 50%, ademas tener en cuenta la column de parent_item_id, que tiene un 24%, esto sera importante mas a delnate para la seleccion de columnas relevamantes para el entranamiento del modelo."
   ]
  },
  {
   "cell_type": "code",
   "execution_count": 10,
   "id": "b8c5189b",
   "metadata": {},
   "outputs": [],
   "source": [
    "\n",
    "data.drop(columns=[\"original_price\",\"video_id\",\"subtitle\",\"differential_pricing\",\"official_store_id\",\"seller_contact\",\"warranty\",\"catalog_product_id\"], inplace=True)"
   ]
  },
  {
   "cell_type": "markdown",
   "id": "431c1776",
   "metadata": {},
   "source": [
    "#### Datos duplicados "
   ]
  },
  {
   "cell_type": "markdown",
   "id": "7f1b0a41",
   "metadata": {},
   "source": [
    "En algunas columnas del dataset hay columnas que tinen diccionarios, lo que se porcede a identifcar esas columnas. \n"
   ]
  },
  {
   "cell_type": "code",
   "execution_count": 11,
   "id": "c29fd0d9",
   "metadata": {},
   "outputs": [
    {
     "name": "stdout",
     "output_type": "stream",
     "text": [
      "Columnas con diccionarios:\n",
      "- seller_address\n",
      "- shipping\n",
      "- location\n",
      "- geolocation\n"
     ]
    },
    {
     "data": {
      "text/plain": [
       "['seller_address', 'shipping', 'location', 'geolocation']"
      ]
     },
     "execution_count": 11,
     "metadata": {},
     "output_type": "execute_result"
    }
   ],
   "source": [
    "def columnas_diccionario(data):\n",
    "    columnas = [\n",
    "    ]\n",
    "    for col in data.columns:\n",
    "        if data[col].apply(lambda x: isinstance(x, dict)).any():\n",
    "            columnas.append(col)\n",
    "    if columnas:\n",
    "        print(\"Columnas con diccionarios:\")\n",
    "        for col in columnas:\n",
    "            print(f\"- {col}\")\n",
    "    else:\n",
    "        print(\"No hay columnas con diccionarios.\")\n",
    "    return columnas\n",
    "columnas_diccionario(data)\n",
    "        "
   ]
  },
  {
   "cell_type": "markdown",
   "id": "1db6e763",
   "metadata": {},
   "source": [
    "Que tiene dentro de los diccionrios estas columnas y sis es relevanate para entrenar el modelo."
   ]
  },
  {
   "cell_type": "code",
   "execution_count": 12,
   "id": "da1453e7",
   "metadata": {},
   "outputs": [
    {
     "data": {
      "text/plain": [
       "{'local_pick_up': True,\n",
       " 'methods': [],\n",
       " 'tags': [],\n",
       " 'free_shipping': False,\n",
       " 'mode': 'me2',\n",
       " 'dimensions': None}"
      ]
     },
     "execution_count": 12,
     "metadata": {},
     "output_type": "execute_result"
    }
   ],
   "source": [
    "data.loc[3,\"shipping\"]"
   ]
  },
  {
   "cell_type": "markdown",
   "id": "a42e94bf",
   "metadata": {},
   "source": [
    "infromacion relvante de la columnn de shipping es mode que se trata de suele aplicarse a productos nuevos o con logística más profesional, y sihacen envios gratis, que se porductos nuevos es muy probabale que se haga. "
   ]
  },
  {
   "cell_type": "code",
   "execution_count": 13,
   "id": "6c65daa4",
   "metadata": {},
   "outputs": [
    {
     "data": {
      "text/plain": [
       "{'comment': '',\n",
       " 'longitude': -58.5059173,\n",
       " 'id': 105272448,\n",
       " 'country': {'name': 'Argentina', 'id': 'AR'},\n",
       " 'address_line': '',\n",
       " 'latitude': -34.5935524,\n",
       " 'search_location': {'neighborhood': {'name': 'Villa Devoto',\n",
       "   'id': 'TUxBQlZJTDYzNzZa'},\n",
       "  'state': {'name': 'Capital Federal', 'id': 'TUxBUENBUGw3M2E1'},\n",
       "  'city': {'name': 'Capital Federal', 'id': 'TUxBQ0NBUGZlZG1sYQ'}},\n",
       " 'zip_code': '',\n",
       " 'city': {'name': 'Buenos Aires', 'id': ''},\n",
       " 'state': {'name': 'Capital Federal', 'id': 'AR-C'}}"
      ]
     },
     "execution_count": 13,
     "metadata": {},
     "output_type": "execute_result"
    }
   ],
   "source": [
    "data.loc[1,\"seller_address\"]"
   ]
  },
  {
   "cell_type": "markdown",
   "id": "69cfff3a",
   "metadata": {},
   "source": [
    "Esta columna es la de direccion del venderos lo que no es relevante pra saber si es nuevo o usado."
   ]
  },
  {
   "cell_type": "code",
   "execution_count": 14,
   "id": "e0e40f50",
   "metadata": {},
   "outputs": [
    {
     "data": {
      "text/plain": [
       "{}"
      ]
     },
     "execution_count": 14,
     "metadata": {},
     "output_type": "execute_result"
    }
   ],
   "source": [
    "data.loc[4,\"location\"]"
   ]
  },
  {
   "cell_type": "markdown",
   "id": "05dbd2e5",
   "metadata": {},
   "source": [
    "Este tambien se intento con varos indices, entoces vamos a reliazar el mismo proceso."
   ]
  },
  {
   "cell_type": "markdown",
   "id": "c3298800",
   "metadata": {},
   "source": [
    "Se reemplaza los vacios con unkown"
   ]
  },
  {
   "cell_type": "code",
   "execution_count": 15,
   "id": "99dfc645",
   "metadata": {},
   "outputs": [
    {
     "name": "stdout",
     "output_type": "stream",
     "text": [
      "0        {'contact': 'unknown'}\n",
      "1        {'contact': 'unknown'}\n",
      "2        {'contact': 'unknown'}\n",
      "3        {'contact': 'unknown'}\n",
      "4        {'contact': 'unknown'}\n",
      "                  ...          \n",
      "99995    {'contact': 'unknown'}\n",
      "99996    {'contact': 'unknown'}\n",
      "99997    {'contact': 'unknown'}\n",
      "99998    {'contact': 'unknown'}\n",
      "99999    {'contact': 'unknown'}\n",
      "Name: location, Length: 100000, dtype: object\n"
     ]
    }
   ],
   "source": [
    "data[\"location\"] = data[\"location\"].apply(lambda x: {\"contact\": \"unknown\"} if pd.isna(x) or (isinstance(x, dict) and not x) else x)\n",
    "print(data[\"location\"])"
   ]
  },
  {
   "cell_type": "code",
   "execution_count": 16,
   "id": "f3491141",
   "metadata": {},
   "outputs": [],
   "source": [
    "def porcentaje_unknowns(df, columna):\n",
    "    total_filas = len(df)\n",
    "    unknowns = sum(df[columna].apply(lambda x: x == {\"contact\": \"unknown\"}))\n",
    "    \n",
    "    porcentaje = (unknowns / total_filas) * 100 if total_filas > 0 else 0\n",
    "    \n",
    "    porcentaje = round(porcentaje, 2)\n",
    "    \n",
    "    print(f\"Porcentaje de 'unknown' en la columna '{columna}': {porcentaje}%\")\n",
    "    print(f\"Total de filas: {total_filas}\")\n",
    "    print(f\"Filas con 'unknown': {unknowns}\")\n",
    "    \n",
    "    return porcentaje"
   ]
  },
  {
   "cell_type": "code",
   "execution_count": 17,
   "id": "e5542433",
   "metadata": {},
   "outputs": [
    {
     "name": "stdout",
     "output_type": "stream",
     "text": [
      "Porcentaje de 'unknown' en la columna 'location': 97.78%\n",
      "Total de filas: 100000\n",
      "Filas con 'unknown': 97781\n"
     ]
    },
    {
     "data": {
      "text/plain": [
       "97.78"
      ]
     },
     "execution_count": 17,
     "metadata": {},
     "output_type": "execute_result"
    }
   ],
   "source": [
    "porcentaje_unknowns(data,\"location\")"
   ]
  },
  {
   "cell_type": "markdown",
   "id": "2e7e584f",
   "metadata": {},
   "source": [
    "Con este procetaje no es recomendable tener esat columna para le modelo, no es relevante para el modelo."
   ]
  },
  {
   "cell_type": "code",
   "execution_count": 18,
   "id": "c5a74a6f",
   "metadata": {},
   "outputs": [
    {
     "data": {
      "text/plain": [
       "{'latitude': -35.0563824, 'longitude': -58.7583331}"
      ]
     },
     "execution_count": 18,
     "metadata": {},
     "output_type": "execute_result"
    }
   ],
   "source": [
    "data.loc[10,\"geolocation\"]"
   ]
  },
  {
   "cell_type": "markdown",
   "id": "c30942fa",
   "metadata": {},
   "source": [
    "Esta columna es para la geolocacion y no es necaria para el modelo."
   ]
  },
  {
   "cell_type": "markdown",
   "id": "d705c9f7",
   "metadata": {},
   "source": [
    "Ya tenemos seleccionado los diccionarios relevantes para el modelo, vamos a creer las dos nuevas columnas que la vamos a extrarer de shipping, y elie inar los otros diccionarios "
   ]
  },
  {
   "cell_type": "code",
   "execution_count": 19,
   "id": "504b6a88",
   "metadata": {},
   "outputs": [],
   "source": [
    "\n",
    "data['shipping_free_shipping'] = data['shipping'].apply(lambda x: x.get('free_shipping', False))\n",
    "data['shipping_mode'] = data['shipping'].apply(lambda x: x.get('mode', None))"
   ]
  },
  {
   "cell_type": "markdown",
   "id": "66b5358e",
   "metadata": {},
   "source": [
    "Eliminar los diccionarios que no son relevantes y la columna shipping ya que se crearon las columnas neuvas"
   ]
  },
  {
   "cell_type": "code",
   "execution_count": 20,
   "id": "c19d0eae",
   "metadata": {},
   "outputs": [],
   "source": [
    "data.drop(columns=[\"shipping\"], inplace=True)\n",
    "data.drop(columns=[\"location\"], inplace=True)\n",
    "data.drop(columns=[\"geolocation\"], inplace=True)\n",
    "data.drop(columns=[\"seller_address\"], inplace=True)"
   ]
  },
  {
   "cell_type": "code",
   "execution_count": 21,
   "id": "f407cca0",
   "metadata": {},
   "outputs": [
    {
     "name": "stdout",
     "output_type": "stream",
     "text": [
      "Columnas con listas:\n",
      "- sub_status\n",
      "- deal_ids\n",
      "- non_mercado_pago_payment_methods\n",
      "- variations\n",
      "- attributes\n",
      "- tags\n",
      "- coverage_areas\n",
      "- descriptions\n",
      "- pictures\n"
     ]
    },
    {
     "data": {
      "text/plain": [
       "['sub_status',\n",
       " 'deal_ids',\n",
       " 'non_mercado_pago_payment_methods',\n",
       " 'variations',\n",
       " 'attributes',\n",
       " 'tags',\n",
       " 'coverage_areas',\n",
       " 'descriptions',\n",
       " 'pictures']"
      ]
     },
     "execution_count": 21,
     "metadata": {},
     "output_type": "execute_result"
    }
   ],
   "source": [
    "def columnas_list(df):\n",
    "    columnas = []\n",
    "    for col in df.columns:\n",
    "        if df[col].apply(lambda x: isinstance(x, list)).any():\n",
    "            columnas.append(col)\n",
    "    if columnas:\n",
    "        print(\"Columnas con listas:\")\n",
    "        for col in columnas:\n",
    "            print(f\"- {col}\")\n",
    "    else:\n",
    "        print(\"No hay columnas con listas.\")\n",
    "    return columnas\n",
    "columnas_list(data)"
   ]
  },
  {
   "cell_type": "code",
   "execution_count": 22,
   "id": "05f11c08",
   "metadata": {},
   "outputs": [],
   "source": [
    "def ver_listas_columna(df, columna, max_ejemplos=5):\n",
    "    print(f\"Inspeccionando listas en la columna '{columna}':\")\n",
    "    \n",
    "    if columna not in df.columns:\n",
    "        print(f\"Error: La columna '{columna}' no existe. Columnas disponibles: {list(df.columns)}\")\n",
    "        return\n",
    "    \n",
    "    listas = df[columna][df[columna].apply(lambda x: isinstance(x, list))]\n",
    "    \n",
    "    if listas.empty:\n",
    "        print(f\"No hay listas en la columna '{columna}'.\")\n",
    "        return\n",
    "    \n",
    "    print(f\"Ejemplos de listas (máximo {max_ejemplos}):\")\n",
    "    for idx, lista in listas.head(max_ejemplos).items():\n",
    "        print(f\"Fila {idx}: {lista} (Elementos: {len(lista)})\")\n",
    "        if not lista:\n",
    "            print(\"  (Lista vacía)\")\n",
    "\n",
    "    total_listas = len(listas)\n",
    "    listas_vacias = sum(1 for lista in listas if not lista)\n",
    "    print(f\"\\nResumen:\")\n",
    "    print(f\"Total de listas en la columna: {total_listas}\")\n",
    "    print(f\"Listas vacías: {listas_vacias} )\")\n",
    "\n"
   ]
  },
  {
   "cell_type": "code",
   "execution_count": 23,
   "id": "3195daaa",
   "metadata": {},
   "outputs": [
    {
     "name": "stdout",
     "output_type": "stream",
     "text": [
      "Inspeccionando listas en la columna 'non_mercado_pago_payment_methods':\n",
      "Ejemplos de listas (máximo 5):\n",
      "Fila 0: [{'description': 'Transferencia bancaria', 'id': 'MLATB', 'type': 'G'}, {'description': 'Acordar con el comprador', 'id': 'MLAWC', 'type': 'G'}, {'description': 'Efectivo', 'id': 'MLAMO', 'type': 'G'}] (Elementos: 3)\n",
      "Fila 1: [{'description': 'Transferencia bancaria', 'id': 'MLATB', 'type': 'G'}, {'description': 'Efectivo', 'id': 'MLAMO', 'type': 'G'}] (Elementos: 2)\n",
      "Fila 2: [{'description': 'Transferencia bancaria', 'id': 'MLATB', 'type': 'G'}, {'description': 'Tarjeta de crédito', 'id': 'MLAOT', 'type': 'N'}, {'description': 'Efectivo', 'id': 'MLAMO', 'type': 'G'}] (Elementos: 3)\n",
      "Fila 3: [{'description': 'Transferencia bancaria', 'id': 'MLATB', 'type': 'G'}, {'description': 'Tarjeta de crédito', 'id': 'MLAOT', 'type': 'N'}, {'description': 'Efectivo', 'id': 'MLAMO', 'type': 'G'}] (Elementos: 3)\n",
      "Fila 4: [{'description': 'Transferencia bancaria', 'id': 'MLATB', 'type': 'G'}, {'description': 'Acordar con el comprador', 'id': 'MLAWC', 'type': 'G'}, {'description': 'Efectivo', 'id': 'MLAMO', 'type': 'G'}] (Elementos: 3)\n",
      "\n",
      "Resumen:\n",
      "Total de listas en la columna: 100000\n",
      "Listas vacías: 30559 )\n",
      "Inspeccionando listas en la columna 'attributes':\n",
      "Ejemplos de listas (máximo 5):\n",
      "Fila 0: [] (Elementos: 0)\n",
      "  (Lista vacía)\n",
      "Fila 1: [] (Elementos: 0)\n",
      "  (Lista vacía)\n",
      "Fila 2: [] (Elementos: 0)\n",
      "  (Lista vacía)\n",
      "Fila 3: [] (Elementos: 0)\n",
      "  (Lista vacía)\n",
      "Fila 4: [] (Elementos: 0)\n",
      "  (Lista vacía)\n",
      "\n",
      "Resumen:\n",
      "Total de listas en la columna: 100000\n",
      "Listas vacías: 87575 )\n",
      "Inspeccionando listas en la columna 'tags':\n",
      "Ejemplos de listas (máximo 5):\n",
      "Fila 0: ['dragged_bids_and_visits'] (Elementos: 1)\n",
      "Fila 1: [] (Elementos: 0)\n",
      "  (Lista vacía)\n",
      "Fila 2: ['dragged_bids_and_visits'] (Elementos: 1)\n",
      "Fila 3: [] (Elementos: 0)\n",
      "  (Lista vacía)\n",
      "Fila 4: ['dragged_bids_and_visits'] (Elementos: 1)\n",
      "\n",
      "Resumen:\n",
      "Total de listas en la columna: 100000\n",
      "Listas vacías: 24910 )\n",
      "Inspeccionando listas en la columna 'coverage_areas':\n",
      "Ejemplos de listas (máximo 5):\n",
      "Fila 0: [] (Elementos: 0)\n",
      "  (Lista vacía)\n",
      "Fila 1: [] (Elementos: 0)\n",
      "  (Lista vacía)\n",
      "Fila 2: [] (Elementos: 0)\n",
      "  (Lista vacía)\n",
      "Fila 3: [] (Elementos: 0)\n",
      "  (Lista vacía)\n",
      "Fila 4: [] (Elementos: 0)\n",
      "  (Lista vacía)\n",
      "\n",
      "Resumen:\n",
      "Total de listas en la columna: 100000\n",
      "Listas vacías: 100000 )\n",
      "Inspeccionando listas en la columna 'descriptions':\n",
      "Ejemplos de listas (máximo 5):\n",
      "Fila 0: [{'id': 'MLA578052519-912855983'}] (Elementos: 1)\n",
      "Fila 1: [{'id': 'MLA581565358-930764806'}] (Elementos: 1)\n",
      "Fila 2: [{'id': 'MLA578780872-916478256'}] (Elementos: 1)\n",
      "Fila 3: [{'id': 'MLA581877385-932309698'}] (Elementos: 1)\n",
      "Fila 4: [{'id': 'MLA576112692-902981678'}] (Elementos: 1)\n",
      "\n",
      "Resumen:\n",
      "Total de listas en la columna: 100000\n",
      "Listas vacías: 2688 )\n",
      "Inspeccionando listas en la columna 'pictures':\n",
      "Ejemplos de listas (máximo 5):\n",
      "Fila 0: [{'size': '500x375', 'secure_url': 'https://a248.e.akamai.net/mla-s1-p.mlstatic.com/5386-MLA4352067878_052013-O.jpg', 'max_size': '1200x900', 'url': 'http://mla-s1-p.mlstatic.com/5386-MLA4352067878_052013-O.jpg', 'quality': '', 'id': '5386-MLA4352067878_052013'}, {'size': '500x375', 'secure_url': 'https://a248.e.akamai.net/mla-s1-p.mlstatic.com/5361-MLA4352068035_052013-O.jpg', 'max_size': '1200x900', 'url': 'http://mla-s1-p.mlstatic.com/5361-MLA4352068035_052013-O.jpg', 'quality': '', 'id': '5361-MLA4352068035_052013'}] (Elementos: 2)\n",
      "Fila 1: [{'size': '499x334', 'secure_url': 'https://a248.e.akamai.net/mla-s1-p.mlstatic.com/23223-MLA20245018984_022015-O.jpg', 'max_size': '951x637', 'url': 'http://mla-s1-p.mlstatic.com/23223-MLA20245018984_022015-O.jpg', 'quality': '', 'id': '23223-MLA20245018984_022015'}, {'size': '500x375', 'secure_url': 'https://a248.e.akamai.net/mla-s2-p.mlstatic.com/23273-MLA20245018989_022015-O.jpg', 'max_size': '1024x768', 'url': 'http://mla-s2-p.mlstatic.com/23273-MLA20245018989_022015-O.jpg', 'quality': '', 'id': '23273-MLA20245018989_022015'}, {'size': '500x375', 'secure_url': 'https://a248.e.akamai.net/mla-s1-p.mlstatic.com/23205-MLA20245019615_022015-O.jpg', 'max_size': '1024x768', 'url': 'http://mla-s1-p.mlstatic.com/23205-MLA20245019615_022015-O.jpg', 'quality': '', 'id': '23205-MLA20245019615_022015'}, {'size': '500x375', 'secure_url': 'https://a248.e.akamai.net/mla-s2-p.mlstatic.com/23289-MLA20245019311_022015-O.jpg', 'max_size': '1024x768', 'url': 'http://mla-s2-p.mlstatic.com/23289-MLA20245019311_022015-O.jpg', 'quality': '', 'id': '23289-MLA20245019311_022015'}, {'size': '500x375', 'secure_url': 'https://a248.e.akamai.net/mla-s1-p.mlstatic.com/23220-MLA20245019314_022015-O.jpg', 'max_size': '1024x768', 'url': 'http://mla-s1-p.mlstatic.com/23220-MLA20245019314_022015-O.jpg', 'quality': '', 'id': '23220-MLA20245019314_022015'}, {'size': '500x326', 'secure_url': 'https://a248.e.akamai.net/mla-s1-p.mlstatic.com/23201-MLA20245019316_022015-O.jpg', 'max_size': '924x603', 'url': 'http://mla-s1-p.mlstatic.com/23201-MLA20245019316_022015-O.jpg', 'quality': '', 'id': '23201-MLA20245019316_022015'}] (Elementos: 6)\n",
      "Fila 2: [{'size': '375x500', 'secure_url': 'https://a248.e.akamai.net/mla-s1-p.mlstatic.com/22076-MLA20223367605_012015-O.jpg', 'max_size': '900x1200', 'url': 'http://mla-s1-p.mlstatic.com/22076-MLA20223367605_012015-O.jpg', 'quality': '', 'id': '22076-MLA20223367605_012015'}] (Elementos: 1)\n",
      "Fila 3: [{'size': '441x423', 'secure_url': 'https://a248.e.akamai.net/mla-s2-p.mlstatic.com/183901-MLA20432881003_092015-O.jpg', 'max_size': '441x423', 'url': 'http://mla-s2-p.mlstatic.com/183901-MLA20432881003_092015-O.jpg', 'quality': '', 'id': '183901-MLA20432881003_092015'}, {'size': '500x372', 'secure_url': 'https://a248.e.akamai.net/mla-s2-p.mlstatic.com/632901-MLA20432881036_092015-O.jpg', 'max_size': '500x372', 'url': 'http://mla-s2-p.mlstatic.com/632901-MLA20432881036_092015-O.jpg', 'quality': '', 'id': '632901-MLA20432881036_092015'}] (Elementos: 2)\n",
      "Fila 4: [{'size': '375x500', 'secure_url': 'https://a248.e.akamai.net/mla-s2-p.mlstatic.com/13595-MLA130418076_1713-O.jpg', 'max_size': '480x640', 'url': 'http://mla-s2-p.mlstatic.com/13595-MLA130418076_1713-O.jpg', 'quality': '', 'id': '13595-MLA130418076_1713'}, {'size': '375x500', 'secure_url': 'https://a248.e.akamai.net/mla-s1-p.mlstatic.com/13596-MLA130418076_1837-O.jpg', 'max_size': '480x640', 'url': 'http://mla-s1-p.mlstatic.com/13596-MLA130418076_1837-O.jpg', 'quality': '', 'id': '13596-MLA130418076_1837'}] (Elementos: 2)\n",
      "\n",
      "Resumen:\n",
      "Total de listas en la columna: 100000\n",
      "Listas vacías: 789 )\n",
      "Inspeccionando listas en la columna 'variations':\n",
      "Ejemplos de listas (máximo 5):\n",
      "Fila 0: [] (Elementos: 0)\n",
      "  (Lista vacía)\n",
      "Fila 1: [] (Elementos: 0)\n",
      "  (Lista vacía)\n",
      "Fila 2: [] (Elementos: 0)\n",
      "  (Lista vacía)\n",
      "Fila 3: [] (Elementos: 0)\n",
      "  (Lista vacía)\n",
      "Fila 4: [] (Elementos: 0)\n",
      "  (Lista vacía)\n",
      "\n",
      "Resumen:\n",
      "Total de listas en la columna: 100000\n",
      "Listas vacías: 91808 )\n",
      "Inspeccionando listas en la columna 'deal_ids':\n",
      "Ejemplos de listas (máximo 5):\n",
      "Fila 0: [] (Elementos: 0)\n",
      "  (Lista vacía)\n",
      "Fila 1: [] (Elementos: 0)\n",
      "  (Lista vacía)\n",
      "Fila 2: [] (Elementos: 0)\n",
      "  (Lista vacía)\n",
      "Fila 3: [] (Elementos: 0)\n",
      "  (Lista vacía)\n",
      "Fila 4: [] (Elementos: 0)\n",
      "  (Lista vacía)\n",
      "\n",
      "Resumen:\n",
      "Total de listas en la columna: 100000\n",
      "Listas vacías: 99760 )\n",
      "Inspeccionando listas en la columna 'sub_status':\n",
      "Ejemplos de listas (máximo 5):\n",
      "Fila 0: [] (Elementos: 0)\n",
      "  (Lista vacía)\n",
      "Fila 1: [] (Elementos: 0)\n",
      "  (Lista vacía)\n",
      "Fila 2: [] (Elementos: 0)\n",
      "  (Lista vacía)\n",
      "Fila 3: [] (Elementos: 0)\n",
      "  (Lista vacía)\n",
      "Fila 4: [] (Elementos: 0)\n",
      "  (Lista vacía)\n",
      "\n",
      "Resumen:\n",
      "Total de listas en la columna: 100000\n",
      "Listas vacías: 99014 )\n"
     ]
    }
   ],
   "source": [
    "ver_listas_columna(data, \"non_mercado_pago_payment_methods\", max_ejemplos=5)\n",
    "ver_listas_columna(data, \"attributes\", max_ejemplos=5)\n",
    "ver_listas_columna(data, \"tags\", max_ejemplos=5)\n",
    "ver_listas_columna(data, \"coverage_areas\", max_ejemplos=5)\n",
    "ver_listas_columna(data, \"descriptions\", max_ejemplos=5)\n",
    "ver_listas_columna(data, \"pictures\", max_ejemplos=5)\n",
    "ver_listas_columna(data, \"variations\", max_ejemplos=5)\n",
    "ver_listas_columna(data, \"deal_ids\", max_ejemplos=5)\n",
    "ver_listas_columna(data, \"sub_status\", max_ejemplos=5)\n"
   ]
  },
  {
   "cell_type": "markdown",
   "id": "6a650cca",
   "metadata": {},
   "source": [
    "Se vana  eliminar estos loistas ya que estas columnas teinen muchos datos nulos y esto afecta considerabalemente para entrenar el modelo, lo que se proiricia la cantida de los datos, pero una columna que pued  ser muy relevante seria de 'non_mercado_pago_payment_methods', que aprioi tine informacion relvante para el entrenamiento del modelo."
   ]
  },
  {
   "cell_type": "code",
   "execution_count": 24,
   "id": "c86adf4a",
   "metadata": {},
   "outputs": [],
   "source": [
    "data.drop(columns=[\"non_mercado_pago_payment_methods\"], inplace=True)\n",
    "data.drop(columns=[\"deal_ids\"], inplace=True)\n",
    "data.drop(columns=[\"sub_status\"], inplace=True)\n",
    "data.drop(columns=[\"variations\"], inplace=True)\n",
    "data.drop(columns=[\"coverage_areas\"], inplace=True)\n",
    "data.drop(columns=[\"descriptions\"], inplace=True)\n",
    "data.drop(columns=[\"tags\"], inplace=True)\n",
    "data.drop(columns=[\"pictures\"], inplace=True)\n",
    "data.drop(columns=[\"attributes\"], inplace=True)"
   ]
  },
  {
   "cell_type": "code",
   "execution_count": 25,
   "id": "de7f2a67",
   "metadata": {},
   "outputs": [
    {
     "name": "stdout",
     "output_type": "stream",
     "text": [
      "Numero de filas duplicadas: (0, 29)\n"
     ]
    }
   ],
   "source": [
    "datos_duplicados = data[data.duplicated()]\n",
    "print(\"Numero de filas duplicadas:\", datos_duplicados.shape)"
   ]
  },
  {
   "cell_type": "markdown",
   "id": "df90d6f6",
   "metadata": {},
   "source": [
    "No hay datos duplicados en el dataset, pero se logra identificar muchas columnas, ahora debemos hacer eel analsis para saber que columnas son optimas para el modelo."
   ]
  },
  {
   "cell_type": "code",
   "execution_count": 26,
   "id": "9b139cce",
   "metadata": {},
   "outputs": [
    {
     "data": {
      "text/plain": [
       "(100000, 29)"
      ]
     },
     "execution_count": 26,
     "metadata": {},
     "output_type": "execute_result"
    }
   ],
   "source": [
    "data.shape"
   ]
  },
  {
   "cell_type": "code",
   "execution_count": 27,
   "id": "7067768f",
   "metadata": {},
   "outputs": [
    {
     "data": {
      "text/plain": [
       "condition                          0\n",
       "base_price                         0\n",
       "seller_id                          0\n",
       "site_id                            0\n",
       "listing_type_id                    0\n",
       "price                              0\n",
       "buying_mode                        0\n",
       "listing_source                     0\n",
       "parent_item_id                 23011\n",
       "category_id                        0\n",
       "last_updated                       0\n",
       "international_delivery_mode        0\n",
       "id                                 0\n",
       "accepts_mercadopago                0\n",
       "currency_id                        0\n",
       "thumbnail                          0\n",
       "title                              0\n",
       "automatic_relist                   0\n",
       "date_created                       0\n",
       "secure_thumbnail                   0\n",
       "stop_time                          0\n",
       "status                             0\n",
       "initial_quantity                   0\n",
       "start_time                         0\n",
       "permalink                          0\n",
       "sold_quantity                      0\n",
       "available_quantity                 0\n",
       "shipping_free_shipping             0\n",
       "shipping_mode                      0\n",
       "dtype: int64"
      ]
     },
     "execution_count": 27,
     "metadata": {},
     "output_type": "execute_result"
    }
   ],
   "source": [
    "data.isnull().sum()"
   ]
  },
  {
   "cell_type": "code",
   "execution_count": 28,
   "id": "ecf34be0",
   "metadata": {},
   "outputs": [
    {
     "data": {
      "text/plain": [
       "array(['MLA568261029', 'MLA561574487', 'MLA568881256', ...,\n",
       "       'MLA546779779', 'MLA565452340', 'MLA570689700'],\n",
       "      shape=(76990,), dtype=object)"
      ]
     },
     "execution_count": 28,
     "metadata": {},
     "output_type": "execute_result"
    }
   ],
   "source": [
    "data[\"parent_item_id\"].unique()"
   ]
  },
  {
   "cell_type": "markdown",
   "id": "8bdc1315",
   "metadata": {},
   "source": [
    "Esta columna que tinen ulos solo es un id del item y no tiene ninguna categoria relevante para el modelo, esntoces se puede eliminar. "
   ]
  },
  {
   "cell_type": "code",
   "execution_count": 29,
   "id": "065fcf2c",
   "metadata": {},
   "outputs": [],
   "source": [
    "data.drop(columns=[\"parent_item_id\"], inplace=True)"
   ]
  },
  {
   "cell_type": "code",
   "execution_count": 30,
   "id": "ae4a52b1",
   "metadata": {},
   "outputs": [
    {
     "data": {
      "text/plain": [
       "(100000, 28)"
      ]
     },
     "execution_count": 30,
     "metadata": {},
     "output_type": "execute_result"
    }
   ],
   "source": [
    "data.shape"
   ]
  },
  {
   "cell_type": "markdown",
   "id": "6b7d79c3",
   "metadata": {},
   "source": [
    "#### Escoger columnas necesarias "
   ]
  },
  {
   "cell_type": "markdown",
   "id": "8eccf0e6",
   "metadata": {},
   "source": [
    "Como sabemos la columna objetivo es condition para saber si es usado o nuevo, apiriori esta columan es object, se puede decir que es categorica, debemos espeficar que datos hay en esat columna, y que tecnicas debemos utlizar para esocger las columnas relevnates para el modelo. Y depues pasar a bianria esat columna"
   ]
  },
  {
   "cell_type": "code",
   "execution_count": 31,
   "id": "ca9139ad",
   "metadata": {},
   "outputs": [
    {
     "data": {
      "text/plain": [
       "array(['new', 'used'], dtype=object)"
      ]
     },
     "execution_count": 31,
     "metadata": {},
     "output_type": "execute_result"
    }
   ],
   "source": [
    "data[\"condition\"].unique()"
   ]
  },
  {
   "cell_type": "code",
   "execution_count": 32,
   "id": "a2f7bb4c",
   "metadata": {},
   "outputs": [],
   "source": [
    "data[\"state_condition\"] = data[\"condition\"].map({\"new\": 0, \"used\": 1})"
   ]
  },
  {
   "cell_type": "code",
   "execution_count": 33,
   "id": "3d23cefe",
   "metadata": {},
   "outputs": [],
   "source": [
    "data.drop(columns=[\"condition\"], inplace=True)"
   ]
  },
  {
   "cell_type": "code",
   "execution_count": 34,
   "id": "86775bab",
   "metadata": {},
   "outputs": [],
   "source": [
    "data.rename(columns={\"state_condition\": \"condition\"}, inplace=True)"
   ]
  },
  {
   "cell_type": "code",
   "execution_count": 35,
   "id": "707225e5",
   "metadata": {},
   "outputs": [
    {
     "data": {
      "text/plain": [
       "condition\n",
       "0    53758\n",
       "1    46242\n",
       "Name: count, dtype: int64"
      ]
     },
     "execution_count": 35,
     "metadata": {},
     "output_type": "execute_result"
    }
   ],
   "source": [
    "data[\"condition\"].value_counts()"
   ]
  },
  {
   "cell_type": "markdown",
   "id": "03c8c313",
   "metadata": {},
   "source": [
    "Ahora necessitakos revisar que columnas no noecesitmos por ejemplo los id, que no son importantesy cuales son importantes por ahora para hacer un analisi de que columnas son mas relevantes"
   ]
  },
  {
   "cell_type": "code",
   "execution_count": 36,
   "id": "55a3b4be",
   "metadata": {},
   "outputs": [
    {
     "data": {
      "text/plain": [
       "Index(['base_price', 'seller_id', 'site_id', 'listing_type_id', 'price',\n",
       "       'buying_mode', 'listing_source', 'category_id', 'last_updated',\n",
       "       'international_delivery_mode', 'id', 'accepts_mercadopago',\n",
       "       'currency_id', 'thumbnail', 'title', 'automatic_relist', 'date_created',\n",
       "       'secure_thumbnail', 'stop_time', 'status', 'initial_quantity',\n",
       "       'start_time', 'permalink', 'sold_quantity', 'available_quantity',\n",
       "       'shipping_free_shipping', 'shipping_mode', 'condition'],\n",
       "      dtype='object')"
      ]
     },
     "execution_count": 36,
     "metadata": {},
     "output_type": "execute_result"
    }
   ],
   "source": [
    "data.columns"
   ]
  },
  {
   "cell_type": "markdown",
   "id": "3f01af72",
   "metadata": {},
   "source": [
    "vamos a elimianr columnas que no son importantes"
   ]
  },
  {
   "cell_type": "code",
   "execution_count": 37,
   "id": "02252391",
   "metadata": {},
   "outputs": [],
   "source": [
    "data.drop(columns=[\"id\",\"seller_id\",\"site_id\",\"permalink\",\"thumbnail\",\"secure_thumbnail\", \"title\",\"listing_source\",\"date_created\",\"start_time\",\"stop_time\",\"last_updated\"], inplace=True)"
   ]
  },
  {
   "cell_type": "markdown",
   "id": "5417cd61",
   "metadata": {},
   "source": [
    "Por uso de memoria vamos a escoger una muestar para saber que columans son relevantes, esta muestar la vmaos a calcular con Fórmula de Cochran."
   ]
  },
  {
   "cell_type": "code",
   "execution_count": 40,
   "id": "26c7290a",
   "metadata": {},
   "outputs": [
    {
     "name": "stdout",
     "output_type": "stream",
     "text": [
      "Tamaño de muestra calculado: 383\n"
     ]
    }
   ],
   "source": [
    "# Parámetros\n",
    "N = len(data)           # Tamaño total del dataset\n",
    "Z = 1.96              # Nivel de confianza del 95%\n",
    "E = 0.05              # Margen de error del 5%\n",
    "p = 0.5               # Proporción más conservadora\n",
    "\n",
    "# Cálculo del tamaño muestral\n",
    "n0 = (Z**2 * p * (1 - p)) / E**2\n",
    "n = n0 / (1 + ((n0 - 1) / N))\n",
    "\n",
    "# Redondear al entero más cercano\n",
    "n = math.ceil(n)\n",
    "\n",
    "print(f\"Tamaño de muestra calculado: {n}\")"
   ]
  },
  {
   "cell_type": "markdown",
   "id": "a4e1636f",
   "metadata": {},
   "source": [
    "Lo anterior no da como rsulatdo que la muestar es de 383, este es importante por uso de memoria hacer el PCA"
   ]
  },
  {
   "cell_type": "code",
   "execution_count": 41,
   "id": "bde95219",
   "metadata": {},
   "outputs": [
    {
     "name": "stdout",
     "output_type": "stream",
     "text": [
      "condition\n",
      "0    0.53758\n",
      "1    0.46242\n",
      "Name: proportion, dtype: float64\n",
      "condition\n",
      "0    0.537859\n",
      "1    0.462141\n",
      "Name: proportion, dtype: float64\n"
     ]
    }
   ],
   "source": [
    "df_muestra, _ = train_test_split(data, train_size=n, stratify=data['condition'], random_state=42)\n",
    "\n",
    "# Verificamos que la proporción se mantiene\n",
    "print(data['condition'].value_counts(normalize=True))\n",
    "print(df_muestra['condition'].value_counts(normalize=True))"
   ]
  },
  {
   "cell_type": "markdown",
   "id": "9288c1f5",
   "metadata": {},
   "source": [
    "Se crear la muestra con las misma procion para no perder balanceo de losd datos orginales "
   ]
  },
  {
   "cell_type": "markdown",
   "id": "4b922e2e",
   "metadata": {},
   "source": [
    "#### Coorelacion"
   ]
  },
  {
   "cell_type": "code",
   "execution_count": 42,
   "id": "df9755c5",
   "metadata": {},
   "outputs": [
    {
     "name": "stdout",
     "output_type": "stream",
     "text": [
      "automatic_relist          0.185328\n",
      "shipping_free_shipping    0.137755\n",
      "accepts_mercadopago       0.094073\n",
      "initial_quantity          0.072873\n",
      "available_quantity        0.072412\n",
      "sold_quantity             0.050024\n",
      "base_price                0.000948\n",
      "price                     0.000948\n",
      "Name: condition, dtype: float64\n"
     ]
    }
   ],
   "source": [
    "df = data.copy()\n",
    "corr = df.corr(numeric_only=True)['condition'].drop('condition').abs().sort_values(ascending=False)\n",
    "print(corr.head(10))"
   ]
  },
  {
   "cell_type": "code",
   "execution_count": 43,
   "id": "973d1b8c",
   "metadata": {},
   "outputs": [
    {
     "name": "stderr",
     "output_type": "stream",
     "text": [
      "C:\\Users\\ASUS\\AppData\\Local\\Temp\\ipykernel_23340\\4229206759.py:2: FutureWarning: \n",
      "\n",
      "Passing `palette` without assigning `hue` is deprecated and will be removed in v0.14.0. Assign the `y` variable to `hue` and set `legend=False` for the same effect.\n",
      "\n",
      "  sns.barplot(\n"
     ]
    },
    {
     "data": {
      "image/png": "[encoded data removed]",
      "text/plain": [
       "<Figure size 1000x600 with 1 Axes>"
      ]
     },
     "metadata": {},
     "output_type": "display_data"
    }
   ],
   "source": [
    "plt.figure(figsize=(10, 6))\n",
    "sns.barplot(\n",
    "    x=corr.values,\n",
    "    y=corr.index,\n",
    "    palette='viridis'\n",
    ")\n",
    "plt.title('Correlation with Condition (Used/New)')\n",
    "plt.xlabel('Correlation coefficient (absolute)')\n",
    "plt.ylabel('Features')\n",
    "plt.tight_layout()\n",
    "plt.show()"
   ]
  },
  {
   "cell_type": "markdown",
   "id": "46521289",
   "metadata": {},
   "source": [
    "Analizamos la correlación entre la variable objetivo condition y otras variables numéricas del dataset. Las correlaciones más altas son con automatic_relist (0.185) y shipping_free_shipping (0.138), aunque ambas son bajas, lo que indica una relación lineal débil. Variables como price y base_price tienen correlaciones prácticamente nulas (0.000948), sugiriendo que no tienen relación lineal con la condición del producto."
   ]
  },
  {
   "cell_type": "markdown",
   "id": "8e8194fe",
   "metadata": {},
   "source": [
    "#### Chi2"
   ]
  },
  {
   "cell_type": "code",
   "execution_count": 44,
   "id": "d9f453c7",
   "metadata": {},
   "outputs": [
    {
     "name": "stdout",
     "output_type": "stream",
     "text": [
      "listing_type_id_free            18489.050784\n",
      "listing_type_id_silver           2534.922212\n",
      "listing_type_id_gold_special     2396.181093\n",
      "listing_type_id_gold             1049.345288\n",
      "buying_mode_classified            865.328134\n",
      "category_id_MLA2044               666.211229\n",
      "category_id_MLA2038               629.119334\n",
      "category_id_MLA41287              607.049067\n",
      "category_id_MLA15328              527.721047\n",
      "shipping_mode_not_specified       434.179205\n",
      "dtype: float64\n"
     ]
    }
   ],
   "source": [
    "df = data.copy()\n",
    "\n",
    "X_cat = df.select_dtypes(include=['object'])  \n",
    "X_cat_encoded = pd.get_dummies(X_cat, drop_first=True)\n",
    "\n",
    "y = df['condition'] \n",
    "\n",
    "chi_scores, _ = chi2(X_cat_encoded, y)\n",
    "\n",
    "chi2_df = pd.Series(chi_scores, index=X_cat_encoded.columns).sort_values(ascending=False)\n",
    "\n",
    "print(chi2_df.head(10))"
   ]
  },
  {
   "cell_type": "markdown",
   "id": "2c700333",
   "metadata": {},
   "source": [
    "Realizamos un análisis de chi-cuadrado para evaluar la asociación entre variables categóricas codificadas y la variable objetivo condition. Las variables más influyentes son listing_type_id_free (puntaje: 18489.05), listing_type_id_silver (2534.92) y listing_type_id_gold_special (2396.18), lo que indica que el tipo de listado tiene una fuerte relación con la condición del producto. También se observan asociaciones moderadas con categorías específicas (category_id_MLA2044, category_id_MLA2038) y el modo de compra (buying_mode_classified). Esto sugiere que el tipo de listado y la categoría del producto son factores clave para predecir la condición,"
   ]
  },
  {
   "cell_type": "markdown",
   "id": "33ee1cd4",
   "metadata": {},
   "source": [
    "#### PCA"
   ]
  },
  {
   "cell_type": "code",
   "execution_count": 45,
   "id": "9e8ea606",
   "metadata": {},
   "outputs": [
    {
     "name": "stdout",
     "output_type": "stream",
     "text": [
      "category_id_MLA116599    14.134807\n",
      "category_id_MLA45559     14.054174\n",
      "category_id_MLA31033     13.994624\n",
      "category_id_MLA1503      13.992372\n",
      "category_id_MLA45558     13.981832\n",
      "category_id_MLA372038    13.972333\n",
      "category_id_MLA48851     13.954599\n",
      "category_id_MLA1417      13.893923\n",
      "category_id_MLA95993     13.882186\n",
      "category_id_MLA44032     13.863444\n"
     ]
    }
   ],
   "source": [
    "X = df_muestra.drop(columns=['condition'])  \n",
    "X_encoded = pd.get_dummies(X, drop_first=True)  \n",
    "\n",
    "# Escalar los datos\n",
    "scaler = StandardScaler()\n",
    "X_scaled = scaler.fit_transform(X_encoded)\n",
    "\n",
    "pca = PCA()\n",
    "pca.fit(X_scaled)\n",
    "\n",
    "importance = pd.DataFrame(\n",
    "    data=abs(pca.components_),\n",
    "    columns=X_encoded.columns\n",
    ")\n",
    "\n",
    "variable_importance = importance.sum(axis=0).sort_values(ascending=False)\n",
    "\n",
    "print(variable_importance.head(10).to_string())"
   ]
  },
  {
   "cell_type": "markdown",
   "id": "9212976a",
   "metadata": {},
   "source": [
    "Realizamos un análisis de componentes principales (PCA) en las variables codificadas del dataset para identificar las características que contribuyen más a la varianza total. Las categorías de productos (category_id) como MLA116599 (14.13), MLA45559 (14.05) y MLA31033 (13.99) muestran las mayores importancias, indicando que las diferencias entre categorías de productos dominan la estructura de los datos."
   ]
  },
  {
   "cell_type": "code",
   "execution_count": 51,
   "id": "62a7974e",
   "metadata": {},
   "outputs": [
    {
     "data": {
      "image/png": "[encoded data removed]",
      "text/plain": [
       "<Figure size 640x480 with 1 Axes>"
      ]
     },
     "metadata": {},
     "output_type": "display_data"
    }
   ],
   "source": [
    "plt.plot(range(1, len(pca.explained_variance_ratio_) + 1), pca.explained_variance_ratio_.cumsum(), marker='o')\n",
    "plt.xlabel('Número de componentes')\n",
    "plt.ylabel('Varianza acumulada explicada')\n",
    "plt.title('Varianza explicada por componentes')\n",
    "plt.show()"
   ]
  },
  {
   "cell_type": "markdown",
   "id": "6d23baa5",
   "metadata": {},
   "source": [
    "La gráfica de varianza explicada por componentes muestra cómo la varianza acumulada de los datos aumenta con el número de componentes principales. Los primeros 50-100 componentes capturan una gran parte de la varianza (aproximadamente 50%-60%), mientras que cerca de 200 componentes alcanzan el 80%-90%. La curva se estabiliza cerca de 1.0 con los 350 componentes, lo que indica que toda la varianza se explica al usar todas las variables originales."
   ]
  },
  {
   "cell_type": "markdown",
   "id": "3e8e8099",
   "metadata": {},
   "source": [
    "#### Columnas seleccionadas "
   ]
  },
  {
   "cell_type": "markdown",
   "id": "9efb16af",
   "metadata": {},
   "source": [
    "Estas son las variables consideradas más relevantes según los análisis de correlación, chi-cuadrado y PCA:\n",
    "\n",
    "-   `automatic_relist`: Indica si el producto se vuelve a publicar automáticamente.\n",
    "    \n",
    "-   `shipping_free_shipping`: Señala si el envío es gratuito.\n",
    "    \n",
    "-   `accepts_mercadopago`: Indica si se acepta MercadoPago como medio de pago.\n",
    "    \n",
    "-   `initial_quantity`: Cantidad inicial del producto publicado.\n",
    "    \n",
    "-   `available_quantity`: Cantidad disponible al momento del análisis.\n",
    "    \n",
    "-   `sold_quantity`: Número de unidades vendidas.\n",
    "    \n",
    "-   `base_price`: Precio base sin descuentos.\n",
    "    \n",
    "-   `price`: Precio final publicado.\n",
    "    \n",
    "-   `listing_type_id`: Tipo de publicación (ej. gold, silver, free).\n",
    "    \n",
    "-   `buying_mode`: Modo de compra (ej. clásico, inmediato).\n",
    "    \n",
    "-   `category_id`: Categoría del producto publicada (informativa aunque sea un ID).\n",
    "    \n",
    "-   `shipping_mode`: Modo de envío del producto.\n",
    "    \n",
    "-   `condition`: **Variable objetivo** que indica si el producto es nuevo (`0`) o usado (`1`).\n",
    "\n",
    "\n"
   ]
  },
  {
   "cell_type": "code",
   "execution_count": 53,
   "id": "af8bcd6f",
   "metadata": {},
   "outputs": [],
   "source": [
    "columnas_relevantes = [\n",
    "    'automatic_relist', 'shipping_free_shipping', 'accepts_mercadopago',\n",
    "    'initial_quantity', 'available_quantity', 'sold_quantity',\n",
    "    'base_price', 'price', 'listing_type_id', 'buying_mode',\n",
    "    'category_id', 'shipping_mode', 'condition' \n",
    "]"
   ]
  },
  {
   "cell_type": "markdown",
   "id": "1cab754a",
   "metadata": {},
   "source": [
    "#### Guardar el dataset limpio"
   ]
  },
  {
   "cell_type": "markdown",
   "id": "a320b90e",
   "metadata": {},
   "source": [
    "Se guarda el dataframe limpio en la carpeta de data"
   ]
  },
  {
   "cell_type": "code",
   "execution_count": 48,
   "id": "6018c8e3",
   "metadata": {},
   "outputs": [],
   "source": [
    "df_filtrado = data[columnas_relevantes].copy()\n",
    "\n",
    "df_filtrado.to_csv(\"../data/1_final/clean_datasetn.csv\", index=False)"
   ]
  }
 ],
 "metadata": {
  "kernelspec": {
   "display_name": "venv",
   "language": "python",
   "name": "python3"
  },
  "language_info": {
   "codemirror_mode": {
    "name": "ipython",
    "version": 3
   },
   "file_extension": ".py",
   "mimetype": "text/x-python",
   "name": "python",
   "nbconvert_exporter": "python",
   "pygments_lexer": "ipython3",
   "version": "3.13.2"
  }
 },
 "nbformat": 4,
 "nbformat_minor": 5
}
